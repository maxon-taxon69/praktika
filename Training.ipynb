{
  "cells": [
    {
      "cell_type": "markdown",
      "metadata": {
        "id": "O7xCDiISyhg8"
      },
      "source": [
        "Импортируем датасет"
      ]
    },
    {
      "cell_type": "code",
      "execution_count": null,
      "metadata": {
        "id": "fNsqSbmGv_Tz",
        "colab": {
          "base_uri": "https://localhost:8080/"
        },
        "outputId": "c2ee9839-c0aa-4d24-ba66-1e0d2f7ccd28"
      },
      "outputs": [
        {
          "output_type": "stream",
          "name": "stdout",
          "text": [
            "Drive already mounted at /content/drive; to attempt to forcibly remount, call drive.mount(\"/content/drive\", force_remount=True).\n"
          ]
        }
      ],
      "source": [
        "from google.colab import drive\n",
        "drive.mount('/content/drive')"
      ]
    },
    {
      "cell_type": "markdown",
      "metadata": {
        "id": "8bLXZ-CRyqFC"
      },
      "source": [
        "Импортируем библеотечки"
      ]
    },
    {
      "cell_type": "code",
      "execution_count": null,
      "metadata": {
        "id": "XVlPZqepxmS7"
      },
      "outputs": [],
      "source": [
        "import numpy as np\n",
        "import tensorflow as tf\n",
        "import matplotlib.pyplot as plt"
      ]
    },
    {
      "cell_type": "markdown",
      "metadata": {
        "id": "vOxgw032y0Sh"
      },
      "source": [
        "Обработка обучающих фоток"
      ]
    },
    {
      "cell_type": "code",
      "execution_count": null,
      "metadata": {
        "colab": {
          "base_uri": "https://localhost:8080/"
        },
        "id": "3SZNyadlzPoo",
        "outputId": "1ba8f863-c05e-46bb-9aaa-1027f8121d19"
      },
      "outputs": [
        {
          "output_type": "stream",
          "name": "stdout",
          "text": [
            "Found 3119 files belonging to 36 classes.\n"
          ]
        }
      ],
      "source": [
        "training_set = tf.keras.utils.image_dataset_from_directory(\n",
        " '/content/drive/MyDrive/Ttainig/train',\n",
        "labels = 'inferred',\n",
        "label_mode = 'categorical',\n",
        "class_names = None,\n",
        "color_mode = 'rgb',\n",
        "batch_size = 32,\n",
        "image_size = (64,64),\n",
        "shuffle = True,\n",
        "seed = None,\n",
        "validation_split = None,\n",
        "subset = None,\n",
        "interpolation = 'bilinear',\n",
        "follow_links = False,\n",
        "crop_to_aspect_ratio = False\n",
        ")"
      ]
    },
    {
      "cell_type": "markdown",
      "metadata": {
        "id": "KrItMyA66ShP"
      },
      "source": [
        "проверка обработки изображений"
      ]
    },
    {
      "cell_type": "code",
      "execution_count": null,
      "metadata": {
        "colab": {
          "base_uri": "https://localhost:8080/"
        },
        "id": "RPw4I3rm6WTC",
        "outputId": "60492f89-13af-4de4-9797-a95c5a47b786"
      },
      "outputs": [
        {
          "output_type": "stream",
          "name": "stdout",
          "text": [
            "Found 351 files belonging to 36 classes.\n"
          ]
        }
      ],
      "source": [
        "validation_set = tf.keras.utils.image_dataset_from_directory(\n",
        " '/content/drive/MyDrive/Ttainig/validation',\n",
        "labels = 'inferred',\n",
        "label_mode = 'categorical',\n",
        "class_names = None,\n",
        "color_mode = 'rgb',\n",
        "batch_size = 32,\n",
        "image_size = (64,64),\n",
        "shuffle = True,\n",
        "seed = None,\n",
        "validation_split = None,\n",
        "subset = None,\n",
        "interpolation = 'bilinear',\n",
        "follow_links = False,\n",
        "crop_to_aspect_ratio = False\n",
        ")"
      ]
    },
    {
      "cell_type": "markdown",
      "metadata": {
        "id": "Rkb5AxuY-fny"
      },
      "source": [
        "Построение модели"
      ]
    },
    {
      "cell_type": "code",
      "execution_count": null,
      "metadata": {
        "id": "w69pdsZa-ibt"
      },
      "outputs": [],
      "source": [
        "cnn = tf.keras.models.Sequential()"
      ]
    },
    {
      "cell_type": "markdown",
      "metadata": {
        "id": "LieBOjWW_kOP"
      },
      "source": [
        "Создание слоя свертки"
      ]
    },
    {
      "cell_type": "code",
      "execution_count": null,
      "metadata": {
        "id": "Dzl81WR_ARuw"
      },
      "outputs": [],
      "source": [
        "cnn.add(tf.keras.layers.Conv2D(filters=64,kernel_size=3,activation='relu',input_shape=[64,64,3]))\n",
        "cnn.add(tf.keras.layers.MaxPool2D(pool_size=2, strides=2))"
      ]
    },
    {
      "cell_type": "code",
      "execution_count": null,
      "metadata": {
        "id": "hatpid2VCgkm"
      },
      "outputs": [],
      "source": [
        "cnn.add(tf.keras.layers.Conv2D(filters=64,kernel_size=3,activation='relu'))\n",
        "cnn.add(tf.keras.layers.MaxPool2D(pool_size=2, strides=2))"
      ]
    },
    {
      "cell_type": "code",
      "execution_count": null,
      "metadata": {
        "id": "1vMBX2Z34zPa"
      },
      "outputs": [],
      "source": [
        "cnn.add(tf.keras.layers.Dropout(0.5)) # это надо чтобы избежать переобучения"
      ]
    },
    {
      "cell_type": "code",
      "execution_count": null,
      "metadata": {
        "id": "aql0j78eEw_p"
      },
      "outputs": [],
      "source": [
        "cnn.add(tf.keras.layers.Flatten())"
      ]
    },
    {
      "cell_type": "code",
      "source": [
        "cnn.add(tf.keras.layers.Dense(units=128, activation='relu'))"
      ],
      "metadata": {
        "id": "GlGGp7jYk2xM"
      },
      "execution_count": null,
      "outputs": []
    },
    {
      "cell_type": "code",
      "execution_count": null,
      "metadata": {
        "id": "RBkJ7qnHF08d"
      },
      "outputs": [],
      "source": [
        "cnn.add(tf.keras.layers.Dense(units=36, activation='softmax')) #создание выходного слоя"
      ]
    },
    {
      "cell_type": "markdown",
      "metadata": {
        "id": "_jOiGJH_Jd0c"
      },
      "source": [
        "Этап обучения"
      ]
    },
    {
      "cell_type": "code",
      "execution_count": null,
      "metadata": {
        "id": "gJ1cNT83KMLk"
      },
      "outputs": [],
      "source": [
        "cnn.compile(optimizer='rmsprop', loss='categorical_crossentropy',metrics=['accuracy'])"
      ]
    },
    {
      "cell_type": "code",
      "execution_count": 38,
      "metadata": {
        "colab": {
          "base_uri": "https://localhost:8080/"
        },
        "id": "R8DCHrlZJhTh",
        "outputId": "f2b086fd-9387-4a4f-94c8-acbada654fb5"
      },
      "outputs": [
        {
          "output_type": "stream",
          "name": "stdout",
          "text": [
            "Epoch 1/32\n",
            "98/98 [==============================] - 130s 1s/step - loss: 3.6918 - accuracy: 0.1209 - val_loss: 4.3626 - val_accuracy: 0.1168\n",
            "Epoch 2/32\n",
            "98/98 [==============================] - 113s 1s/step - loss: 3.5613 - accuracy: 0.1751 - val_loss: 2.5547 - val_accuracy: 0.3447\n",
            "Epoch 3/32\n",
            "98/98 [==============================] - 124s 1s/step - loss: 3.4355 - accuracy: 0.2308 - val_loss: 2.6830 - val_accuracy: 0.3761\n",
            "Epoch 4/32\n",
            "98/98 [==============================] - 114s 1s/step - loss: 4.1742 - accuracy: 0.2847 - val_loss: 2.3083 - val_accuracy: 0.4786\n",
            "Epoch 5/32\n",
            "98/98 [==============================] - 122s 1s/step - loss: 2.8337 - accuracy: 0.3463 - val_loss: 1.7970 - val_accuracy: 0.5926\n",
            "Epoch 6/32\n",
            "98/98 [==============================] - 131s 1s/step - loss: 2.7040 - accuracy: 0.3940 - val_loss: 1.9277 - val_accuracy: 0.5983\n",
            "Epoch 7/32\n",
            "98/98 [==============================] - 116s 1s/step - loss: 2.2765 - accuracy: 0.4643 - val_loss: 1.8929 - val_accuracy: 0.6610\n",
            "Epoch 8/32\n",
            "98/98 [==============================] - 120s 1s/step - loss: 3.0840 - accuracy: 0.4774 - val_loss: 1.7231 - val_accuracy: 0.7493\n",
            "Epoch 9/32\n",
            "98/98 [==============================] - 122s 1s/step - loss: 2.2580 - accuracy: 0.5325 - val_loss: 1.7406 - val_accuracy: 0.6496\n",
            "Epoch 10/32\n",
            "98/98 [==============================] - 115s 1s/step - loss: 1.9781 - accuracy: 0.5707 - val_loss: 2.6446 - val_accuracy: 0.5271\n",
            "Epoch 11/32\n",
            "98/98 [==============================] - 123s 1s/step - loss: 2.0803 - accuracy: 0.6005 - val_loss: 1.5382 - val_accuracy: 0.8063\n",
            "Epoch 12/32\n",
            "98/98 [==============================] - 113s 1s/step - loss: 1.6204 - accuracy: 0.6239 - val_loss: 1.3570 - val_accuracy: 0.7949\n",
            "Epoch 13/32\n",
            "98/98 [==============================] - 112s 1s/step - loss: 1.7641 - accuracy: 0.6460 - val_loss: 1.2765 - val_accuracy: 0.8063\n",
            "Epoch 14/32\n",
            "98/98 [==============================] - 119s 1s/step - loss: 1.9621 - accuracy: 0.6630 - val_loss: 1.8180 - val_accuracy: 0.7179\n",
            "Epoch 15/32\n",
            "98/98 [==============================] - 114s 1s/step - loss: 1.7477 - accuracy: 0.6906 - val_loss: 1.4869 - val_accuracy: 0.7977\n",
            "Epoch 16/32\n",
            "98/98 [==============================] - 121s 1s/step - loss: 1.3847 - accuracy: 0.7147 - val_loss: 1.1438 - val_accuracy: 0.8746\n",
            "Epoch 17/32\n",
            "98/98 [==============================] - 125s 1s/step - loss: 1.2645 - accuracy: 0.7483 - val_loss: 1.0399 - val_accuracy: 0.8604\n",
            "Epoch 18/32\n",
            "98/98 [==============================] - 115s 1s/step - loss: 1.3841 - accuracy: 0.7381 - val_loss: 1.4041 - val_accuracy: 0.8575\n",
            "Epoch 19/32\n",
            "98/98 [==============================] - 116s 1s/step - loss: 1.1280 - accuracy: 0.7666 - val_loss: 0.9955 - val_accuracy: 0.8746\n",
            "Epoch 20/32\n",
            "98/98 [==============================] - 113s 1s/step - loss: 0.9929 - accuracy: 0.7871 - val_loss: 1.0863 - val_accuracy: 0.8946\n",
            "Epoch 21/32\n",
            "98/98 [==============================] - 121s 1s/step - loss: 1.0526 - accuracy: 0.7996 - val_loss: 1.0732 - val_accuracy: 0.8604\n",
            "Epoch 22/32\n",
            "98/98 [==============================] - 112s 1s/step - loss: 1.0176 - accuracy: 0.8028 - val_loss: 1.3153 - val_accuracy: 0.8974\n",
            "Epoch 23/32\n",
            "98/98 [==============================] - 112s 1s/step - loss: 1.0440 - accuracy: 0.8073 - val_loss: 1.4309 - val_accuracy: 0.8575\n",
            "Epoch 24/32\n",
            "98/98 [==============================] - 121s 1s/step - loss: 1.0116 - accuracy: 0.8063 - val_loss: 0.6259 - val_accuracy: 0.9288\n",
            "Epoch 25/32\n",
            "98/98 [==============================] - 114s 1s/step - loss: 0.8905 - accuracy: 0.8217 - val_loss: 1.0750 - val_accuracy: 0.9145\n",
            "Epoch 26/32\n",
            "98/98 [==============================] - 116s 1s/step - loss: 1.0979 - accuracy: 0.8192 - val_loss: 0.9841 - val_accuracy: 0.9459\n",
            "Epoch 27/32\n",
            "98/98 [==============================] - 112s 1s/step - loss: 0.9569 - accuracy: 0.8336 - val_loss: 1.6321 - val_accuracy: 0.9003\n",
            "Epoch 28/32\n",
            "98/98 [==============================] - 113s 1s/step - loss: 1.0919 - accuracy: 0.8467 - val_loss: 1.3568 - val_accuracy: 0.9373\n",
            "Epoch 29/32\n",
            "98/98 [==============================] - 113s 1s/step - loss: 1.0547 - accuracy: 0.8496 - val_loss: 1.4975 - val_accuracy: 0.9145\n",
            "Epoch 30/32\n",
            "98/98 [==============================] - 121s 1s/step - loss: 0.8071 - accuracy: 0.8660 - val_loss: 1.2603 - val_accuracy: 0.9459\n",
            "Epoch 31/32\n",
            "98/98 [==============================] - 112s 1s/step - loss: 0.8433 - accuracy: 0.8541 - val_loss: 1.3604 - val_accuracy: 0.8348\n",
            "Epoch 32/32\n",
            "98/98 [==============================] - 112s 1s/step - loss: 0.9492 - accuracy: 0.8564 - val_loss: 1.3138 - val_accuracy: 0.9145\n"
          ]
        }
      ],
      "source": [
        "training_history = cnn.fit(x=training_set,validation_data=validation_set,epochs=32)"
      ]
    },
    {
      "cell_type": "code",
      "execution_count": 47,
      "metadata": {
        "id": "sFQ_36mGFXKU"
      },
      "outputs": [],
      "source": [
        "cnn.save('trained_model.h5')"
      ]
    },
    {
      "cell_type": "code",
      "execution_count": 40,
      "metadata": {
        "colab": {
          "base_uri": "https://localhost:8080/"
        },
        "id": "9xHzIZ97F6ch",
        "outputId": "abcdef24-f985-4b2a-9c6c-6bc9905b1c55"
      },
      "outputs": [
        {
          "output_type": "execute_result",
          "data": {
            "text/plain": [
              "{'loss': [3.6917989253997803,\n",
              "  3.5613245964050293,\n",
              "  3.435492992401123,\n",
              "  4.1742143630981445,\n",
              "  2.8336617946624756,\n",
              "  2.704042434692383,\n",
              "  2.2765254974365234,\n",
              "  3.0840210914611816,\n",
              "  2.257972478866577,\n",
              "  1.9781088829040527,\n",
              "  2.080338716506958,\n",
              "  1.6204227209091187,\n",
              "  1.764059066772461,\n",
              "  1.9621270895004272,\n",
              "  1.7477301359176636,\n",
              "  1.3847260475158691,\n",
              "  1.2645241022109985,\n",
              "  1.3840869665145874,\n",
              "  1.1280255317687988,\n",
              "  0.9929023385047913,\n",
              "  1.0525583028793335,\n",
              "  1.0176466703414917,\n",
              "  1.0440471172332764,\n",
              "  1.0116044282913208,\n",
              "  0.890450656414032,\n",
              "  1.097949743270874,\n",
              "  0.9569011330604553,\n",
              "  1.0919229984283447,\n",
              "  1.0546855926513672,\n",
              "  0.8071334958076477,\n",
              "  0.8433223962783813,\n",
              "  0.9491815567016602],\n",
              " 'accuracy': [0.12087207287549973,\n",
              "  0.1750561147928238,\n",
              "  0.2308432161808014,\n",
              "  0.28470662236213684,\n",
              "  0.3462648391723633,\n",
              "  0.39403656125068665,\n",
              "  0.4642513692378998,\n",
              "  0.4773966073989868,\n",
              "  0.5325424671173096,\n",
              "  0.5706957578659058,\n",
              "  0.6005129814147949,\n",
              "  0.6239179372787476,\n",
              "  0.6460403800010681,\n",
              "  0.6630330085754395,\n",
              "  0.6906059384346008,\n",
              "  0.7146521210670471,\n",
              "  0.748316764831543,\n",
              "  0.7380570769309998,\n",
              "  0.7665918469429016,\n",
              "  0.7871112823486328,\n",
              "  0.7996152639389038,\n",
              "  0.8028213977813721,\n",
              "  0.8073100447654724,\n",
              "  0.8063482046127319,\n",
              "  0.8217377066612244,\n",
              "  0.8191727995872498,\n",
              "  0.8336005210876465,\n",
              "  0.8467457294464111,\n",
              "  0.8496313095092773,\n",
              "  0.865982711315155,\n",
              "  0.8541198968887329,\n",
              "  0.8563641905784607],\n",
              " 'val_loss': [4.362631320953369,\n",
              "  2.554720640182495,\n",
              "  2.6829721927642822,\n",
              "  2.3082728385925293,\n",
              "  1.796967625617981,\n",
              "  1.9277267456054688,\n",
              "  1.8929219245910645,\n",
              "  1.7230777740478516,\n",
              "  1.7405551671981812,\n",
              "  2.6445698738098145,\n",
              "  1.5382325649261475,\n",
              "  1.356987714767456,\n",
              "  1.2765191793441772,\n",
              "  1.817952275276184,\n",
              "  1.4868659973144531,\n",
              "  1.1438366174697876,\n",
              "  1.0399364233016968,\n",
              "  1.4041290283203125,\n",
              "  0.9954884648323059,\n",
              "  1.0863370895385742,\n",
              "  1.0731955766677856,\n",
              "  1.3153283596038818,\n",
              "  1.4308955669403076,\n",
              "  0.6259405016899109,\n",
              "  1.0750317573547363,\n",
              "  0.9840999245643616,\n",
              "  1.6321346759796143,\n",
              "  1.356797695159912,\n",
              "  1.49745512008667,\n",
              "  1.2602550983428955,\n",
              "  1.3604174852371216,\n",
              "  1.313769817352295],\n",
              " 'val_accuracy': [0.11680911481380463,\n",
              "  0.34472933411598206,\n",
              "  0.3760683834552765,\n",
              "  0.47863247990608215,\n",
              "  0.5925925970077515,\n",
              "  0.5982906222343445,\n",
              "  0.6609686613082886,\n",
              "  0.7492877244949341,\n",
              "  0.6495726704597473,\n",
              "  0.5270655155181885,\n",
              "  0.8062677979469299,\n",
              "  0.7948718070983887,\n",
              "  0.8062677979469299,\n",
              "  0.7179487347602844,\n",
              "  0.7977207899093628,\n",
              "  0.874643862247467,\n",
              "  0.8603988885879517,\n",
              "  0.8575498461723328,\n",
              "  0.874643862247467,\n",
              "  0.8945869207382202,\n",
              "  0.8603988885879517,\n",
              "  0.8974359035491943,\n",
              "  0.8575498461723328,\n",
              "  0.9287749528884888,\n",
              "  0.9145299196243286,\n",
              "  0.945868968963623,\n",
              "  0.9002848863601685,\n",
              "  0.9373219609260559,\n",
              "  0.9145299196243286,\n",
              "  0.945868968963623,\n",
              "  0.8347578644752502,\n",
              "  0.9145299196243286]}"
            ]
          },
          "metadata": {},
          "execution_count": 40
        }
      ],
      "source": [
        "training_history.history"
      ]
    },
    {
      "cell_type": "code",
      "execution_count": 41,
      "metadata": {
        "id": "qnFKHWmbFfIr"
      },
      "outputs": [],
      "source": [
        "import json\n",
        "with open('train_his','w') as f:\n",
        "  json.dump(training_history.history,f)"
      ]
    },
    {
      "cell_type": "code",
      "execution_count": 42,
      "metadata": {
        "colab": {
          "base_uri": "https://localhost:8080/"
        },
        "id": "kyeO4OCRHhIU",
        "outputId": "78517599-8dcb-4124-cd49-156b546e11fe"
      },
      "outputs": [
        {
          "output_type": "stream",
          "name": "stdout",
          "text": [
            "dict_keys(['loss', 'accuracy', 'val_loss', 'val_accuracy'])\n"
          ]
        }
      ],
      "source": [
        "print(training_history.history.keys())"
      ]
    },
    {
      "cell_type": "markdown",
      "metadata": {
        "id": "wCjrv5xTHsaY"
      },
      "source": [
        "Рассчет тоночти модели при проверке"
      ]
    },
    {
      "cell_type": "code",
      "execution_count": 43,
      "metadata": {
        "colab": {
          "base_uri": "https://localhost:8080/"
        },
        "id": "TDH8RbLqH68A",
        "outputId": "08a8d84c-63e5-436e-cb2a-c1048f7374a0"
      },
      "outputs": [
        {
          "output_type": "stream",
          "name": "stdout",
          "text": [
            "Validation set accuracy: 91.45299196243286 %\n"
          ]
        }
      ],
      "source": [
        "print(\"Validation set accuracy: {} %\".format(training_history.history['val_accuracy'][-1]*100))"
      ]
    },
    {
      "cell_type": "markdown",
      "metadata": {
        "id": "KXiEN2aZ_mJR"
      },
      "source": [
        "Визуализация точности"
      ]
    },
    {
      "cell_type": "code",
      "execution_count": 45,
      "metadata": {
        "colab": {
          "base_uri": "https://localhost:8080/",
          "height": 453
        },
        "id": "KjWB5nmE_pGP",
        "outputId": "d60cfac7-cf36-4ee2-cdea-87fe2d2bb532"
      },
      "outputs": [
        {
          "output_type": "display_data",
          "data": {
            "text/plain": [
              "<Figure size 640x480 with 1 Axes>"
            ],
            "image/png": "[encoded data removed]"
          },
          "metadata": {}
        }
      ],
      "source": [
        "epochs = [i for i in range(1,33)]\n",
        "plt.plot(epochs,training_history.history['accuracy'], color='red')\n",
        "plt.xlabel('Эпохи')\n",
        "plt.ylabel('Тоночть обучения')\n",
        "plt.show()"
      ]
    },
    {
      "cell_type": "code",
      "execution_count": 46,
      "metadata": {
        "colab": {
          "base_uri": "https://localhost:8080/",
          "height": 449
        },
        "id": "qBCmAYb2CphV",
        "outputId": "e92d3f35-2a52-412c-826b-4d923a68b035"
      },
      "outputs": [
        {
          "output_type": "display_data",
          "data": {
            "text/plain": [
              "<Figure size 640x480 with 1 Axes>"
            ],
            "image/png": "[encoded data removed]"
          },
          "metadata": {}
        }
      ],
      "source": [
        "plt.plot(epochs,training_history.history['val_accuracy'], color='green')\n",
        "plt.xlabel('Эпохи')\n",
        "plt.ylabel('Тоночть проверки')\n",
        "plt.show()"
      ]
    }
  ],
  "metadata": {
    "colab": {
      "provenance": []
    },
    "kernelspec": {
      "display_name": "Python 3",
      "name": "python3"
    },
    "language_info": {
      "name": "python"
    }
  },
  "nbformat": 4,
  "nbformat_minor": 0
}